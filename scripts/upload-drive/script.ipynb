{
 "cells": [
  {
   "cell_type": "code",
   "execution_count": 34,
   "metadata": {},
   "outputs": [],
   "source": [
    "import csv\n",
    "import mysql.connector\n",
    "import json\n",
    "import uuid"
   ]
  },
  {
   "cell_type": "code",
   "execution_count": 42,
   "metadata": {},
   "outputs": [],
   "source": [
    "#open cvs\n",
    "with open('data.csv', mode='r') as infile:\n",
    "    reader = csv.reader(infile)\n",
    "    data=[d for d in reader]\n",
    "    names=data.pop(0)\n",
    "    dicted_data=[{names[i]:v for i,v in enumerate(d)} for d in data]\n",
    "    \n",
    "#add washburn to data as shop name temp until building field is added\n",
    "for d in dicted_data:\n",
    "    d['Building']:\"Washburn Shops\""
   ]
  },
  {
   "cell_type": "code",
   "execution_count": 39,
   "metadata": {},
   "outputs": [
    {
     "name": "stdout",
     "output_type": "stream",
     "text": [
      "{'Timestamp': '2/21/2020 21:24:59', 'Tool': 'Miller Syncrowave 250 Tig/Arc Welder', 'Lab': 'Washburn Welding Shop', 'Description': 'Tig Welder', 'Photo': '', 'Booking Link': ''}\n",
      "{'Timestamp': '2/21/2020 21:26:44', 'Tool': 'Miller Millermatic Mig Welder', 'Lab': 'Washburn Welding Shop', 'Description': 'Mig Welder', 'Photo': '', 'Booking Link': ''}\n",
      "{'Timestamp': '2/21/2020 21:27:05', 'Tool': 'Miller Millermatic 300 Mig Welder', 'Lab': 'Washburn Welding Shop', 'Description': 'Mig Welder', 'Photo': '', 'Booking Link': ''}\n",
      "{'Timestamp': '2/21/2020 21:27:50', 'Tool': 'Hypertherm powermax 1000 G3 Series Plasma Cutter', 'Lab': 'Washburn Welding Shop', 'Description': 'Plasma Cutter', 'Photo': '', 'Booking Link': ''}\n",
      "{'Timestamp': '2/21/2020 21:30:17', 'Tool': 'Miller Dynasty 300DX Tig Welder', 'Lab': 'Washburn Welding Shop', 'Description': 'Tig Welder', 'Photo': '', 'Booking Link': ''}\n",
      "{'Timestamp': '2/21/2020 21:31:08', 'Tool': 'Miller Millermatic 250 Mig Welder ', 'Lab': 'Washburn Welding Shop', 'Description': 'Mig Welder', 'Photo': '', 'Booking Link': ''}\n",
      "{'Timestamp': '2/21/2020 21:32:01', 'Tool': 'Oxy-Acetylene Torch', 'Lab': 'Washburn Welding Shop', 'Description': 'Oxy-Acetylene Welder', 'Photo': '', 'Booking Link': ''}\n",
      "{'Timestamp': '2/21/2020 21:32:55', 'Tool': 'Langmuir Crossfire X CNC Plasma Cutter Table', 'Lab': 'Washburn Welding Shop', 'Description': 'CNC Plasma Cutter', 'Photo': '', 'Booking Link': ''}\n",
      "{'Timestamp': '2/21/2020 21:33:38', 'Tool': 'Ruemelin Bead Blasting Cabinet ', 'Lab': 'Washburn Welding Shop', 'Description': 'Bead Blastic Cabinet', 'Photo': '', 'Booking Link': ''}\n",
      "{'Timestamp': '2/21/2020 21:34:24', 'Tool': 'JET Diamond Wheel Bench Grinder', 'Lab': 'Washburn Welding Shop', 'Description': 'Diamond Bench Grinder', 'Photo': '', 'Booking Link': ''}\n",
      "{'Timestamp': '2/21/2020 21:35:12', 'Tool': 'Milwaukee Chop Saw ', 'Lab': 'Washburn Welding Shop', 'Description': 'Chop Saw', 'Photo': '', 'Booking Link': ''}\n",
      "{'Timestamp': '2/21/2020 21:35:45', 'Tool': 'Heavy Duty Standing Vise', 'Lab': 'Washburn Welding Shop', 'Description': 'Vise', 'Photo': '', 'Booking Link': ''}\n",
      "{'Timestamp': '2/21/2020 21:36:25', 'Tool': 'Universal Versa Laser Cutter', 'Lab': 'Washburn 107', 'Description': 'Laser Cutter', 'Photo': '', 'Booking Link': ''}\n",
      "{'Timestamp': '2/21/2020 21:37:20', 'Tool': 'Universal Laser Cutter', 'Lab': 'Washburn 107', 'Description': 'Laser Cutter', 'Photo': '', 'Booking Link': ''}\n",
      "{'Timestamp': '2/21/2020 21:38:06', 'Tool': 'Robotiq Robot Arm', 'Lab': 'Washburn 107', 'Description': 'Robot Arm', 'Photo': '', 'Booking Link': ''}\n",
      "{'Timestamp': '2/21/2020 21:38:23', 'Tool': 'Robotiq Robot Arm', 'Lab': 'Washburn 107', 'Description': 'Robot Arm', 'Photo': '', 'Booking Link': ''}\n",
      "{'Timestamp': '2/21/2020 21:39:03', 'Tool': 'Haas ST-10 CNC Lathe', 'Lab': 'Washburn 107', 'Description': 'CNC Lathe', 'Photo': '', 'Booking Link': ''}\n",
      "{'Timestamp': '2/21/2020 21:39:37', 'Tool': 'Haas CNC Lathe 1', 'Lab': 'Washburn 107', 'Description': 'CNC Lathe', 'Photo': '', 'Booking Link': ''}\n",
      "{'Timestamp': '2/21/2020 21:39:50', 'Tool': 'Haas CNC Lathe 2', 'Lab': 'Washburn 107', 'Description': 'CNC Lathe', 'Photo': '', 'Booking Link': ''}\n",
      "{'Timestamp': '2/21/2020 16:40:50', 'Tool': 'Haas CNC Mini Mill 1', 'Lab': 'Washburn 107', 'Description': 'CNC Mill', 'Photo': '', 'Booking Link': ''}\n",
      "{'Timestamp': '2/21/2020 16:41:10', 'Tool': 'Haas CNC Mini Mill 2', 'Lab': 'Washburn 107', 'Description': 'CNC Mill', 'Photo': '', 'Booking Link': ''}\n",
      "{'Timestamp': '2/21/2020 16:41:23', 'Tool': 'Haas CNC Mini Mill 3', 'Lab': 'Washburn 107', 'Description': 'CNC Mill', 'Photo': '', 'Booking Link': ''}\n",
      "{'Timestamp': '2/21/2020 16:42:22', 'Tool': 'Tennsmith Sheet Metal Brake', 'Lab': 'Washburn 107', 'Description': 'Sheet Metal Brake', 'Photo': '', 'Booking Link': ''}\n",
      "{'Timestamp': '2/21/2020 16:43:27', 'Tool': 'MSC Sheet Metal Roller', 'Lab': 'Washburn 107', 'Description': 'Sheet Metal Roller', 'Photo': '', 'Booking Link': ''}\n",
      "{'Timestamp': '2/21/2020 16:43:45', 'Tool': 'Tube Bender', 'Lab': 'Washburn 107', 'Description': 'Tube Bender', 'Photo': '', 'Booking Link': ''}\n",
      "{'Timestamp': '2/21/2020 16:44:43', 'Tool': 'Peck, Stow & Wilcox Sheet Metal Shear', 'Lab': 'Washburn 107', 'Description': 'Sheet Metal Shear', 'Photo': '', 'Booking Link': ''}\n",
      "{'Timestamp': '2/21/2020 16:45:15', 'Tool': 'DoAll Horizontal Bandsaw', 'Lab': 'Washburn 107', 'Description': 'Horizontal Bandsaw', 'Photo': '', 'Booking Link': ''}\n",
      "{'Timestamp': '2/21/2020 16:45:39', 'Tool': 'DoAll Vertical Bandsaw 1', 'Lab': 'Washburn 107', 'Description': 'Vertical Bandsaw', 'Photo': '', 'Booking Link': ''}\n",
      "{'Timestamp': '2/21/2020 16:46:05', 'Tool': 'DoAll Vertical Bandsaw 2', 'Lab': 'Washburn 107', 'Description': 'Vertical Bandsaw', 'Photo': '', 'Booking Link': ''}\n",
      "{'Timestamp': '2/21/2020 16:47:10', 'Tool': 'Baldor Non-Ferrous Scotch-Brite bench wheel', 'Lab': 'Washburn 107', 'Description': 'Scotch-Brite Wheel', 'Photo': '', 'Booking Link': ''}\n",
      "{'Timestamp': '2/21/2020 16:47:33', 'Tool': 'Baldor Bench Grinder', 'Lab': 'Washburn 107', 'Description': 'Bench Grinder', 'Photo': '', 'Booking Link': ''}\n",
      "{'Timestamp': '2/21/2020 16:48:09', 'Tool': 'Arboga WIlton Drill Press 1', 'Lab': 'Washburn 107', 'Description': 'Drill Press', 'Photo': '', 'Booking Link': ''}\n",
      "{'Timestamp': '2/21/2020 16:48:45', 'Tool': 'Arboga Wilton Drill Press 2', 'Lab': 'Washburn 107', 'Description': 'Drill Press ', 'Photo': '', 'Booking Link': ''}\n",
      "{'Timestamp': '2/21/2020 16:49:39', 'Tool': 'Wilton Vertical Belt Sander', 'Lab': 'Washburn 107', 'Description': 'Wilton Vertical Belt Sander', 'Photo': '', 'Booking Link': ''}\n",
      "{'Timestamp': '2/21/2020 16:50:10', 'Tool': 'Dake Arbor Press', 'Lab': 'Washburn 107', 'Description': 'Arbor Press', 'Photo': '', 'Booking Link': ''}\n",
      "{'Timestamp': '2/21/2020 16:50:37', 'Tool': 'Bench Vise 1', 'Lab': 'Washburn 107', 'Description': 'Bench Vise', 'Photo': '', 'Booking Link': ''}\n",
      "{'Timestamp': '2/21/2020 16:52:18', 'Tool': 'Haas ST-30 SSY CNC Lathe ', 'Lab': 'Washburn 108', 'Description': 'CNC Lathe with Bar feeder', 'Photo': '', 'Booking Link': ''}\n",
      "{'Timestamp': '2/21/2020 16:52:57', 'Tool': 'AccuteX DS-430s ZNC Wire EDM', 'Lab': 'Washburn 108', 'Description': 'EDM Machine', 'Photo': '', 'Booking Link': ''}\n",
      "{'Timestamp': '2/21/2020 16:53:51', 'Tool': 'Fanuc M-710iC Robot Arm Chamber', 'Lab': 'Washburn 108', 'Description': 'Robot Arm ', 'Photo': '', 'Booking Link': ''}\n",
      "{'Timestamp': '2/21/2020 16:54:35', 'Tool': 'ABB IRB 1600-6/1.45 Robot Arm', 'Lab': 'Washburn 108', 'Description': 'Robot Arm', 'Photo': '', 'Booking Link': ''}\n",
      "{'Timestamp': '2/21/2020 16:54:50', 'Tool': 'Haas Mill Drill Center', 'Lab': 'Washburn 108', 'Description': 'CNC Mill', 'Photo': '', 'Booking Link': ''}\n",
      "{'Timestamp': '2/21/2020 16:55:26', 'Tool': 'AccuteX GE-43SA Wire EDM ', 'Lab': 'Washburn 108', 'Description': 'EDM Machine', 'Photo': '', 'Booking Link': ''}\n",
      "{'Timestamp': '2/21/2020 16:55:51', 'Tool': 'Haas VM2 CNC Mill', 'Lab': 'Washburn 108', 'Description': 'CNC Mill', 'Photo': '', 'Booking Link': ''}\n",
      "{'Timestamp': '2/21/2020 16:56:13', 'Tool': 'Haas Super Mini Mill ', 'Lab': 'Washburn 108', 'Description': 'CNC Mill', 'Photo': '', 'Booking Link': ''}\n",
      "{'Timestamp': '2/21/2020 16:56:42', 'Tool': 'Boston Dynamics Atlas Robot', 'Lab': 'Washburn 108', 'Description': 'Humanoid Robot', 'Photo': '', 'Booking Link': ''}\n",
      "{'Timestamp': '2/21/2020 16:58:25', 'Tool': 'Keyence XM Handheld CMM', 'Lab': 'Washburn 105', 'Description': 'CMM', 'Photo': '', 'Booking Link': ''}\n",
      "{'Timestamp': '2/21/2020 16:59:23', 'Tool': 'HGDC 2008-16 CMM', 'Lab': 'Washburn 105', 'Description': 'CMM machine', 'Photo': '', 'Booking Link': ''}\n",
      "{'Timestamp': '2/21/2020 17:01:00', 'Tool': 'Mahr Perthen Metrology Machine ', 'Lab': 'Washburn 105', 'Description': 'Metrology Machine', 'Photo': '', 'Booking Link': ''}\n",
      "{'Timestamp': '2/21/2020 17:04:07', 'Tool': 'Bel Air FinishMaster SL ', 'Lab': 'Washburn 107', 'Description': 'Vibratory Finishing Machine ', 'Photo': '', 'Booking Link': ''}\n",
      "{'Timestamp': '2/21/2020 17:19:07', 'Tool': 'DoAll Vertical Bandsaw', 'Lab': 'Higgins Machine Shop', 'Description': 'Vertical Band Saw', 'Photo': 'https://drive.google.com/open?id=1bGGGnhKE4nFjqmu-wnJMK1OUHQxvTWR7', 'Booking Link': ''}\n",
      "{'Timestamp': '2/21/2020 17:20:01', 'Tool': 'Haas TM 1 CNC Mill', 'Lab': 'Higgins Machine Shop', 'Description': 'CNC Mill', 'Photo': 'https://drive.google.com/open?id=1_gD9PmWTlt-Yh4zHWfOS9tDGZ4-CZLZr', 'Booking Link': ''}\n",
      "{'Timestamp': '2/21/2020 17:21:05', 'Tool': 'DeWalt DW788 Scroll Saw', 'Lab': 'Higgins Machine Shop', 'Description': 'Scroll Saw', 'Photo': 'https://drive.google.com/open?id=102_jVaEhxSBlkf1UQoW_3JxUYTlSYxel', 'Booking Link': ''}\n",
      "{'Timestamp': '2/21/2020 17:22:02', 'Tool': 'JET Horizontal Bandsaw', 'Lab': 'Higgins Machine Shop', 'Description': 'Horizontal Bandsaw ', 'Photo': 'https://drive.google.com/open?id=15ubkjlrcL-hHvHrZUArmKsN-NDOQ3_ZW', 'Booking Link': ''}\n",
      "{'Timestamp': '2/21/2020 17:22:50', 'Tool': 'Hammond of Kalamazoo Vertical Belt Sander ', 'Lab': 'Higgins Machine Shop', 'Description': 'Belt Sander ', 'Photo': 'https://drive.google.com/open?id=1vNnMCxvDiBq67WYtGElrxP0Jf6rZnJgJ', 'Booking Link': ''}\n",
      "{'Timestamp': '2/21/2020 17:23:48', 'Tool': \"Walker Chuck's Manual Surfacing Machine \", 'Lab': 'Higgins Machine Shop', 'Description': 'Manual Surfacing Machine', 'Photo': 'https://drive.google.com/open?id=12v_ZGeA_dI5Q3QECwVhosLDo2Q1hCY8-', 'Booking Link': ''}\n",
      "{'Timestamp': '2/21/2020 17:24:39', 'Tool': 'DoAll 13 Manual Lathe ', 'Lab': 'Higgins Machine Shop', 'Description': 'Manual Metal Lathe ', 'Photo': 'https://drive.google.com/open?id=1hQgOsUyg75JzUKCeGKlK-ITP2Vn_fVj4', 'Booking Link': ''}\n",
      "{'Timestamp': '2/21/2020 17:25:40', 'Tool': 'Arboga Wilton Drill press ', 'Lab': 'Higgins Machine Shop', 'Description': 'Drill press', 'Photo': 'https://drive.google.com/open?id=1CBPZ_Si3pZ9-6q2LGTfte99vWej8IYcn', 'Booking Link': ''}\n",
      "{'Timestamp': '2/21/2020 17:26:25', 'Tool': 'DoAll Vertical Knee Mill 1', 'Lab': 'Higgins Machine Shop', 'Description': 'Manual Mill 1', 'Photo': '', 'Booking Link': ''}\n",
      "{'Timestamp': '2/21/2020 17:27:11', 'Tool': 'DoAll Vertical Knee Mill 2', 'Lab': 'Higgins Machine Shop', 'Description': 'Manual Mill 2', 'Photo': '', 'Booking Link': ''}\n",
      "{'Timestamp': '2/21/2020 16:50:37', 'Tool': 'Bench Vise 2', 'Lab': 'Washburn 107', 'Description': 'Bench Vise', 'Photo': '', 'Booking Link': ''}\n",
      "{'Timestamp': '2/21/2020 16:50:37', 'Tool': 'Bench Vise 3', 'Lab': 'Washburn 107', 'Description': 'Bench Vise', 'Photo': '', 'Booking Link': ''}\n",
      "{'Timestamp': '2/21/2020 16:50:37', 'Tool': 'Bench Vise 4', 'Lab': 'Washburn 107', 'Description': 'Bench Vise', 'Photo': '', 'Booking Link': ''}\n"
     ]
    },
    {
     "data": {
      "text/plain": [
       "[None,\n",
       " None,\n",
       " None,\n",
       " None,\n",
       " None,\n",
       " None,\n",
       " None,\n",
       " None,\n",
       " None,\n",
       " None,\n",
       " None,\n",
       " None,\n",
       " None,\n",
       " None,\n",
       " None,\n",
       " None,\n",
       " None,\n",
       " None,\n",
       " None,\n",
       " None,\n",
       " None,\n",
       " None,\n",
       " None,\n",
       " None,\n",
       " None,\n",
       " None,\n",
       " None,\n",
       " None,\n",
       " None,\n",
       " None,\n",
       " None,\n",
       " None,\n",
       " None,\n",
       " None,\n",
       " None,\n",
       " None,\n",
       " None,\n",
       " None,\n",
       " None,\n",
       " None,\n",
       " None,\n",
       " None,\n",
       " None,\n",
       " None,\n",
       " None,\n",
       " None,\n",
       " None,\n",
       " None,\n",
       " None,\n",
       " None,\n",
       " None,\n",
       " None,\n",
       " None,\n",
       " None,\n",
       " None,\n",
       " None,\n",
       " None,\n",
       " None,\n",
       " None,\n",
       " None,\n",
       " None,\n",
       " None]"
      ]
     },
     "execution_count": 39,
     "metadata": {},
     "output_type": "execute_result"
    }
   ],
   "source": [
    "#print data\n",
    "\n",
    "[print(d) for d in dicted_data]"
   ]
  },
  {
   "cell_type": "code",
   "execution_count": 35,
   "metadata": {},
   "outputs": [],
   "source": [
    "#db_connections\n",
    "mydb = mysql.connector.connect(\n",
    "  host=\"makermap.cbeezzrvvyp6.us-east-2.rds.amazonaws.com\",\n",
    "  user=\"admin\",\n",
    "  passwd=\"makermap\",\n",
    "  database=\"innodb\"\n",
    ")\n",
    "\n",
    "cursor = mydb.cursor()"
   ]
  },
  {
   "cell_type": "code",
   "execution_count": 45,
   "metadata": {},
   "outputs": [],
   "source": [
    "# add building\n",
    "def addBuilding(name, addr, lat, longi, desc, img, man, hour,uuid=uuid.uuid4()):\n",
    "    sql_cmd = (\"INSERT INTO Buildings(idBuildings, Name, Address, Latitude, Longitude, Description, ImageFolder, Manager, Hours) VALUES (%s,%s,%s,%s,%s,%s,%s,%s,%s)\")\n",
    "    data = (str(uuid), name, addr, lat, longi, desc, img, man, hour)\n",
    "    cursor.execute(sql_cmd, data)\n",
    "    print(cursor.statement)\n",
    "    mydb.commit()"
   ]
  },
  {
   "cell_type": "code",
   "execution_count": 61,
   "metadata": {},
   "outputs": [],
   "source": [
    "#add lab\n",
    "def addLab(idB, name, hour, lat, longi, desc, room, img, man,uuid=uuid.uuid4()):\n",
    "    sql_cmd = (\"INSERT INTO Labs(idLabs, BuildingID, Name, Hours, Latitude, Longitude, Description, RoomNum, ImageFolder, Manager) VALUES (%s, %s, %s, %s, %s, %s, %s, %s, %s, %s)\")\n",
    "    data = (str(uuid), str(idB), name, hour, lat, longi, desc, room, img, man)\n",
    "    cursor.execute(sql_cmd, data)\n",
    "    mydb.commit()"
   ]
  },
  {
   "cell_type": "code",
   "execution_count": 62,
   "metadata": {},
   "outputs": [],
   "source": [
    "#add tool\n",
    "def addTool(name, idL, desc, img, book, own, res):\n",
    "    sql_cmd = (\"INSERT INTO Tools(idTools, Name, LabID, Description, ImageFolder, BookingLink, OwnerID, RestrictPublic) VALUES (%s, %s, %s, %s, %s, %s, %s, %s)\")\n",
    "    data = (str(uuid.uuid4()), name, str(idL), desc, img, book, own, res)\n",
    "    cursor.execute(sql_cmd, data)\n",
    "    mydb.commit()"
   ]
  },
  {
   "cell_type": "code",
   "execution_count": 49,
   "metadata": {},
   "outputs": [
    {
     "name": "stdout",
     "output_type": "stream",
     "text": [
      "INSERT INTO Buildings(idBuildings, Name, Address, Latitude, Longitude, Description, ImageFolder, Manager, Hours) VALUES ('bb9b68bd-e9a1-4ef3-8155-2726bc7d3685','Washburn Shoops','100 Institute Road, Worcester MA, 01609',42.27392325,-71.80707633,'temp','temp','temp','temp')\n"
     ]
    }
   ],
   "source": [
    "#Adding Washburn\n",
    "wash_id=uuid.uuid4()\n",
    "addBuilding(\"Washburn Shoops\", \"100 Institute Road, Worcester MA, 01609\",42.27392325,-71.80707633,\"temp\",\"temp\",\"temp\",\"temp\",wash_id)"
   ]
  },
  {
   "cell_type": "code",
   "execution_count": 51,
   "metadata": {},
   "outputs": [],
   "source": [
    "sent_labs={}"
   ]
  },
  {
   "cell_type": "code",
   "execution_count": 64,
   "metadata": {},
   "outputs": [],
   "source": [
    "for tool in dicted_data:\n",
    "    if tool['Lab'] not in sent_labs.keys():\n",
    "        sent_labs[tool['Lab']]=uuid.uuid4()\n",
    "        addLab(wash_id,tool['Lab'],42.27392325,-71.80707633,'temp','temp','temp','temp','temp',uuid=sent_labs[tool['Lab']])\n",
    "    addTool(tool['Tool'],sent_labs[tool['Lab']],'temp','temp','temp','temp','false')"
   ]
  },
  {
   "cell_type": "code",
   "execution_count": null,
   "metadata": {},
   "outputs": [],
   "source": []
  }
 ],
 "metadata": {
  "kernelspec": {
   "display_name": "Python [conda env:makermap-upload] *",
   "language": "python",
   "name": "conda-env-makermap-upload-py"
  },
  "language_info": {
   "codemirror_mode": {
    "name": "ipython",
    "version": 3
   },
   "file_extension": ".py",
   "mimetype": "text/x-python",
   "name": "python",
   "nbconvert_exporter": "python",
   "pygments_lexer": "ipython3",
   "version": "3.7.6"
  }
 },
 "nbformat": 4,
 "nbformat_minor": 4
}
