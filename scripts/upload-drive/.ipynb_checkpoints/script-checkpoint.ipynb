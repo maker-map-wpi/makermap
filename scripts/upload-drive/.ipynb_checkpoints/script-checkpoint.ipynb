{
 "cells": [
  {
   "cell_type": "code",
   "execution_count": 3,
   "metadata": {},
   "outputs": [],
   "source": [
    "import requests\n",
    "import csv\n",
    "import mysql.connector\n",
    "import json\n",
    "import uuid"
   ]
  },
  {
   "cell_type": "code",
   "execution_count": 16,
   "metadata": {},
   "outputs": [
    {
     "name": "stdout",
     "output_type": "stream",
     "text": [
      "Timestamp,Lab Name,Building Name,Room Number,Manager(s),Description,Open Hours,Lat,Long\n",
      ",Washburn Welding Shop,Washburn Shops and Stoddard Laboratories,Welding Shop,\"Ian Anderson, James Loiselle, Toby Bergstrom\",Metal Fabrication Shop,24/7,,\n",
      ",Washburn 105,Washburn Shops and Stoddard Laboratories,WB 105,\"Ian Anderson, James Loiselle, Toby Bergstrom\",Computer Lab and Metrology,24/7,,\n",
      ",CNC Teaching Laboratory,Washburn Shops and Stoddard Laboratories,WB 107,\"Ian Anderson, James Loiselle, Toby Bergstrom\",Prototyping Machine Shop,24/7,,\n",
      ",Washburn 108,Washburn Shops and Stoddard Laboratories,WB 108,\"Ian Anderson, James Loiselle, Toby Bergstrom\",Prototyping Machine Shop,24/7,,\n",
      ",Higgins Machine Shop and Project Laboratory,Higgins Laboratories,HL 004 & HL 005,\"James Loiselle, Ian Anderson\",Metal Machine Shop ,24/8,,\n",
      ",Foisie Innovation Studio Makerspace,Foisie Innovation Studio ,Floor 1,Adam Sears,Makerspace,7:30AM–1AM,\"42.274312,-71.808687\",\n",
      "--------------------\n",
      "Timestamp,Tool,Lab,Description,Photo,Booking Link,\n",
      "2/21/2020 21:24:59,Miller Syncrowave 250 Tig/Arc Welder,Washburn Welding Shop,Tig Welder,,,\n",
      "2/21/2020 21:26:44,Miller Millermatic Mig Welder,Washburn Welding Shop,Mig Welder,https://data.makermap-wpi.com/images/MillerMillermatic ,,\n",
      "2/21/2020 21:27:05,Miller Millermatic 300 Mig Welder,Washburn Welding Shop,Mig Welder,https://data.makermap-wpi.com/images/MillerMillermatic300,,\n",
      "2/21/2020 21:27:50,Hypertherm powermax 1000 G3 Series Plasma Cutter,Washburn Welding Shop,Plasma Cutter,https://data.makermap-wpi.com/images/Hyperthermpowermax1000,,\n",
      "2/21/2020 21:30:17,Miller Dynasty 300DX Tig Welder,Washburn Welding Shop,Tig Welder,https://data.makermap-wpi.com/images/MillerDynasty300DX,,\n",
      "2/21/2020 21:31:08,Miller Millermatic 250 Mig Welder ,Washburn Welding Shop,Mig Welder,https://data.makermap-wpi.com/images/MillerMillermatic250 ,,\n",
      "2/21/2020 21:32:01,Oxy-Acetylene Torch,Washburn Welding Shop,Oxy-Acetylene Welder,https://data.makermap-wpi.com/images/OxyAcetyleneTorch,,\n",
      "2/21/2020 21:32:55,Langmuir Crossfire X CNC Plasma Cutter Table,Washburn Welding Shop,CNC Plasma Cutter,https://data.makermap-wpi.com/images/CrossfireX ,,\n",
      "2/21/2020 21:33:38,Ruemelin Bead Blasting Cabinet ,Washburn Welding Shop,Bead Blastic Cabinet,https://data.makermap-wpi.com/images/BeadBlastingCabinet,,\n",
      "2/21/2020 21:34:24,JET Diamond Wheel Bench Grinder,Washburn Welding Shop,Diamond Bench Grinder,https://data.makermap-wpi.com/images/JETBenchGrinder,,\n",
      "2/21/2020 21:35:12,Milwaukee Chop Saw ,Washburn Welding Shop,Chop Saw,https://data.makermap-wpi.com/images/MilwaukeeChopSaw ,,\n",
      "2/21/2020 21:35:45,Heavy Duty Standing Vise,Washburn Welding Shop,Vise,,,\n",
      "2/21/2020 21:36:25,Universal Versa Laser Cutter,Washburn 107,Laser Cutter,https://data.makermap-wpi.com/images/UniversalVersa,,\n",
      "2/21/2020 21:37:20,Universal Laser Cutter,Washburn 107,Laser Cutter,https://data.makermap-wpi.com/images/UniversalLaserCutter,,\n",
      "2/21/2020 21:38:06,Universal Robot Arm 1,Washburn 107,Robot Arm,https://data.makermap-wpi.com/images/UniversalRobotArm,,\n",
      "2/21/2020 21:38:23,Universal Robot Arm 2,Washburn 107,Robot Arm,https://data.makermap-wpi.com/images/UniversalRobotArm,,\n",
      "2/21/2020 21:39:03,Haas ST-10 CNC Lathe,Washburn 107,CNC Lathe,https://data.makermap-wpi.com/images/HaasST10 ,,\n",
      "2/21/2020 21:39:37,Haas CNC Lathe 1,Washburn 107,CNC Lathe,,,\n",
      "2/21/2020 21:39:50,Haas CNC Lathe 2,Washburn 107,CNC Lathe,,,\n",
      "2/21/2020 16:40:50,Haas CNC Mini Mill 1,Washburn 107,CNC Mill,https://data.makermap-wpi.com/images/HaasMiniMill ,,\n",
      "2/21/2020 16:41:10,Haas CNC Mini Mill 2,Washburn 107,CNC Mill,https://data.makermap-wpi.com/images/HaasMiniMill ,,\n",
      "2/21/2020 16:41:23,Haas CNC Mini Mill 3,Washburn 107,CNC Mill,https://data.makermap-wpi.com/images/HaasMiniMill ,,\n",
      "2/21/2020 16:42:22,Tennsmith Sheet Metal Brake,Washburn 107,Sheet Metal Brake,,,\n",
      "2/21/2020 16:43:27,MSC Sheet Metal Roller,Washburn 107,Sheet Metal Roller,,,\n",
      "2/21/2020 16:43:45,Tube Bender,Washburn 107,Tube Bender,,,\n",
      "2/21/2020 16:44:43,\"Peck, Stow & Wilcox Sheet Metal Shear\",Washburn 107,Sheet Metal Shear,,,\n",
      "2/21/2020 16:45:15,DoAll Horizontal Bandsaw,Washburn 107,Horizontal Bandsaw,https://data.makermap-wpi.com/images/DoAllHorizontalBandsaw,,\n",
      "2/21/2020 16:45:39,DoAll Vertical Bandsaw 1,Washburn 107,Vertical Bandsaw,https://data.makermap-wpi.com/images/DoAllVerticalBandsaw,,\n",
      "2/21/2020 16:46:05,DoAll Vertical Bandsaw 2,Washburn 107,Vertical Bandsaw,https://data.makermap-wpi.com/images/DoAllVerticalBandsaw,,\n",
      "2/21/2020 16:47:10,Baldor Non-Ferrous Scotch-Brite bench wheel,Washburn 107,Scotch-Brite Wheel,,,\n",
      "2/21/2020 16:47:33,Baldor Bench Grinder,Washburn 107,Bench Grinder,,,\n",
      "2/21/2020 16:48:09,Arboga WIlton Drill Press 1,Washburn 107,Drill Press,https://data.makermap-wpi.com/images/,,\n",
      "2/21/2020 16:48:45,Arboga Wilton Drill Press 2,Washburn 107,Drill Press ,https://data.makermap-wpi.com/images/,,\n",
      "2/21/2020 16:49:39,Wilton Vertical Belt Sander,Washburn 107,Wilton Vertical Belt Sander,https://data.makermap-wpi.com/images/,,\n",
      "2/21/2020 16:50:10,Dake Arbor Press,Washburn 107,Arbor Press,https://data.makermap-wpi.com/images/,,\n",
      "2/21/2020 16:50:37,Bench Vise 1,Washburn 107,Bench Vise,https://data.makermap-wpi.com/images/,,\n",
      "2/21/2020 16:52:18,Haas ST-30 SSY CNC Lathe ,Washburn 108,CNC Lathe with Bar feeder,https://data.makermap-wpi.com/images/,,\n",
      "2/21/2020 16:52:57,AccuteX DS-430s ZNC Wire EDM,Washburn 108,EDM Machine,https://data.makermap-wpi.com/images/,,\n",
      "2/21/2020 16:53:51,Fanuc M-710iC Robot Arm Chamber,Washburn 108,Robot Arm ,https://data.makermap-wpi.com/images/,,\n",
      "2/21/2020 16:54:35,ABB IRB 1600-6/1.45 Robot Arm,Washburn 108,Robot Arm,https://data.makermap-wpi.com/images/,,\n",
      "2/21/2020 16:54:50,Haas Mill Drill Center,Washburn 108,CNC Mill,https://data.makermap-wpi.com/images/,,\n",
      "2/21/2020 16:55:26,AccuteX GE-43SA Wire EDM ,Washburn 108,EDM Machine,https://data.makermap-wpi.com/images/,,\n",
      "2/21/2020 16:55:51,Haas VM2 CNC Mill,Washburn 108,CNC Mill,https://data.makermap-wpi.com/images/,,\n",
      "2/21/2020 16:56:13,Haas Super Mini Mill ,Washburn 108,CNC Mill,https://data.makermap-wpi.com/images/,,\n",
      "2/21/2020 16:56:42,Boston Dynamics Atlas Robot,Washburn 108,Humanoid Robot,https://data.makermap-wpi.com/images/,,https://data.makermap-wpi.com/images/\n",
      "2/21/2020 16:58:25,Keyence XM Handheld CMM,Washburn 105,CMM,https://data.makermap-wpi.com/images/,,\n",
      "2/21/2020 16:59:23,HGDC 2008-16 CMM,Washburn 105,CMM machine,https://data.makermap-wpi.com/images/,,\n",
      "2/21/2020 17:01:00,Mahr Perthen Metrology Machine ,Washburn 105,Metrology Machine,https://data.makermap-wpi.com/images/,,\n",
      "2/21/2020 17:04:07,Bel Air FinishMaster SL ,Washburn 107,Vibratory Finishing Machine ,https://data.makermap-wpi.com/images/,,\n",
      "2/21/2020 17:19:07,DoAll Vertical Bandsaw,Higgins Machine Shop,Vertical Band Saw,https://data.makermap-wpi.com/images/,,\n",
      "2/21/2020 17:20:01,Haas TM 1 CNC Mill,Higgins Machine Shop,CNC Mill,https://data.makermap-wpi.com/images/,,\n",
      "2/21/2020 17:21:05,DeWalt DW788 Scroll Saw,Higgins Machine Shop,Scroll Saw,https://data.makermap-wpi.com/images/,,\n",
      "2/21/2020 17:22:02,JET Horizontal Bandsaw,Higgins Machine Shop,Horizontal Bandsaw ,https://data.makermap-wpi.com/images/,,\n",
      "2/21/2020 17:22:50,Hammond of Kalamazoo Vertical Belt Sander ,Higgins Machine Shop,Belt Sander ,https://data.makermap-wpi.com/images/,,\n",
      "2/21/2020 17:23:48,Walker Chuck's Manual Surfacing Machine ,Higgins Machine Shop,Manual Surfacing Machine,https://data.makermap-wpi.com/images/,,\n",
      "2/21/2020 17:24:39,DoAll 13 Manual Lathe ,Higgins Machine Shop,Manual Metal Lathe ,https://data.makermap-wpi.com/images/,,\n",
      "2/21/2020 17:25:40,Arboga Wilton Drill press ,Higgins Machine Shop,Drill press,https://data.makermap-wpi.com/images/,,\n",
      "2/21/2020 17:26:25,DoAll Vertical Knee Mill 1,Higgins Machine Shop,Manual Mill 1,https://data.makermap-wpi.com/images/,,\n",
      "2/21/2020 17:27:11,DoAll Vertical Knee Mill 2,Higgins Machine Shop,Manual Mill 2,https://data.makermap-wpi.com/images/,,\n",
      "2/25/2020 16:24:06,\"Full Spectrum 36\"\" x 48\"\" 100w Laser Cutter\",Foisie Innovation Studio Makerspace,Laser Cutter,https://data.makermap-wpi.com/images/,,\n",
      "2/25/2020 16:25:04,Wazer Desktop Waterjet Cutter,Foisie Innovation Studio Makerspace,Waterjet Cutter,https://data.makermap-wpi.com/images/,,\n",
      "2/25/2020 16:26:39,LPKF ProtoLaser S4 PCB Maker,Foisie Innovation Studio Makerspace,Printed Circuit Board Maker,https://data.makermap-wpi.com/images/,,\n",
      "2/25/2020 16:27:21,Fume Extracting Soldering Station,Foisie Innovation Studio Makerspace,Soldering Station,https://data.makermap-wpi.com/images/,,\n",
      "2/25/2020 16:28:22,Lulzbot TAZ 6 3D Printer ,Foisie Innovation Studio Makerspace,8 Machines,https://data.makermap-wpi.com/images/,,\n",
      "2/25/2020 16:29:47,Ultimaker 3 Extended 3D Printer,Foisie Innovation Studio Makerspace,6x Machines,https://data.makermap-wpi.com/images/,,\n",
      "2/25/2020 16:30:22,Ultimaker 3 3D Printer,Foisie Innovation Studio Makerspace,12x Machines,https://data.makermap-wpi.com/images/,,\n",
      "2/21/2020 16:50:37,Bench Vise 2,Washburn 107,Bench Vise,https://data.makermap-wpi.com/images/,,\n",
      "2/21/2020 16:50:37,Bench Vise 3,Washburn 107,Bench Vise,https://data.makermap-wpi.com/images/,,\n",
      "2/21/2020 16:50:37,Bench Vise 4,Washburn 107,Bench Vise,https://data.makermap-wpi.com/images/,,\n"
     ]
    }
   ],
   "source": [
    "#get csv files from google\n",
    "#Lab Data\n",
    "response = requests.get('https://docs.google.com/spreadsheets/d/1pBmIyPgVe0B3i91tMO1_4Da0X5HF8ptlM5nNn2t9owY/export?format=csv&id=1pBmIyPgVe0B3i91tMO1_4Da0X5HF8ptlM5nNn2t9owY&gid=2035162726')\n",
    "assert response.status_code == 200, 'Wrong status code'\n",
    "lab_data=response.content.decode('utf8')\n",
    "print(lab_data)\n",
    "print('-'*20)\n",
    "response = requests.get('https://docs.google.com/spreadsheets/d/1JZvWCkz5PmIF11oSX_ENVgs1rjt46Vk2aRaCo-2_noI/export?format=csv&id=1JZvWCkz5PmIF11oSX_ENVgs1rjt46Vk2aRaCo-2_noI')\n",
    "assert response.status_code == 200, 'Wrong status code'\n",
    "tool_data=response.content.decode('utf8')\n",
    "print(tool_data)\n"
   ]
  },
  {
   "cell_type": "code",
   "execution_count": 19,
   "metadata": {},
   "outputs": [
    {
     "ename": "AttributeError",
     "evalue": "'list' object has no attribute 'splitlines'",
     "output_type": "error",
     "traceback": [
      "\u001b[0;31m---------------------------------------------------------------------------\u001b[0m",
      "\u001b[0;31mAttributeError\u001b[0m                            Traceback (most recent call last)",
      "\u001b[0;32m<ipython-input-19-3bcc188f849d>\u001b[0m in \u001b[0;36m<module>\u001b[0;34m\u001b[0m\n\u001b[1;32m      1\u001b[0m \u001b[0;31m#open cvs\u001b[0m\u001b[0;34m\u001b[0m\u001b[0;34m\u001b[0m\u001b[0;34m\u001b[0m\u001b[0m\n\u001b[0;32m----> 2\u001b[0;31m \u001b[0mreader\u001b[0m \u001b[0;34m=\u001b[0m \u001b[0mcsv\u001b[0m\u001b[0;34m.\u001b[0m\u001b[0mreader\u001b[0m\u001b[0;34m(\u001b[0m\u001b[0mlab_data\u001b[0m\u001b[0;34m.\u001b[0m\u001b[0msplitlines\u001b[0m\u001b[0;34m(\u001b[0m\u001b[0;34m)\u001b[0m\u001b[0;34m)\u001b[0m\u001b[0;34m\u001b[0m\u001b[0;34m\u001b[0m\u001b[0m\n\u001b[0m\u001b[1;32m      3\u001b[0m \u001b[0mdata\u001b[0m\u001b[0;34m=\u001b[0m\u001b[0;34m[\u001b[0m\u001b[0md\u001b[0m \u001b[0;32mfor\u001b[0m \u001b[0md\u001b[0m \u001b[0;32min\u001b[0m \u001b[0mreader\u001b[0m\u001b[0;34m]\u001b[0m\u001b[0;34m\u001b[0m\u001b[0;34m\u001b[0m\u001b[0m\n\u001b[1;32m      4\u001b[0m \u001b[0mnames\u001b[0m\u001b[0;34m=\u001b[0m\u001b[0mdata\u001b[0m\u001b[0;34m.\u001b[0m\u001b[0mpop\u001b[0m\u001b[0;34m(\u001b[0m\u001b[0;36m0\u001b[0m\u001b[0;34m)\u001b[0m\u001b[0;34m\u001b[0m\u001b[0;34m\u001b[0m\u001b[0m\n\u001b[1;32m      5\u001b[0m \u001b[0mlab_data\u001b[0m\u001b[0;34m=\u001b[0m\u001b[0;34m[\u001b[0m\u001b[0;34m{\u001b[0m\u001b[0mnames\u001b[0m\u001b[0;34m[\u001b[0m\u001b[0mi\u001b[0m\u001b[0;34m]\u001b[0m\u001b[0;34m:\u001b[0m\u001b[0mv\u001b[0m \u001b[0;32mfor\u001b[0m \u001b[0mi\u001b[0m\u001b[0;34m,\u001b[0m\u001b[0mv\u001b[0m \u001b[0;32min\u001b[0m \u001b[0menumerate\u001b[0m\u001b[0;34m(\u001b[0m\u001b[0md\u001b[0m\u001b[0;34m)\u001b[0m\u001b[0;34m}\u001b[0m \u001b[0;32mfor\u001b[0m \u001b[0md\u001b[0m \u001b[0;32min\u001b[0m \u001b[0mdata\u001b[0m\u001b[0;34m]\u001b[0m\u001b[0;34m\u001b[0m\u001b[0;34m\u001b[0m\u001b[0m\n",
      "\u001b[0;31mAttributeError\u001b[0m: 'list' object has no attribute 'splitlines'"
     ]
    }
   ],
   "source": [
    "#open cvs\n",
    "reader = csv.reader(lab_data.splitlines())\n",
    "data=[d for d in reader]\n",
    "names=data.pop(0)\n",
    "lab_data=[{names[i]:v for i,v in enumerate(d)} for d in data]\n",
    "[print(d) for d in lab_data]\n",
    "\n",
    "print('-'*20)\n",
    "\n",
    "reader = csv.reader(tool_data.splitlines())\n",
    "data=[d for d in reader]\n",
    "names=data.pop(0)\n",
    "tool_data=[{names[i]:v for i,v in enumerate(d)} for d in data]\n",
    "[print(d) for d in tool_data]"
   ]
  },
  {
   "cell_type": "code",
   "execution_count": 3,
   "metadata": {},
   "outputs": [
    {
     "name": "stdout",
     "output_type": "stream",
     "text": [
      "{'Timestamp': '2/21/2020 21:24:59', 'Tool': 'Miller Syncrowave 250 Tig/Arc Welder', 'Lab': 'Washburn Welding Shop', 'Description': 'Tig Welder', 'Photo': '', 'Booking Link': ''}\n",
      "{'Timestamp': '2/21/2020 21:26:44', 'Tool': 'Miller Millermatic Mig Welder', 'Lab': 'Washburn Welding Shop', 'Description': 'Mig Welder', 'Photo': '', 'Booking Link': ''}\n",
      "{'Timestamp': '2/21/2020 21:27:05', 'Tool': 'Miller Millermatic 300 Mig Welder', 'Lab': 'Washburn Welding Shop', 'Description': 'Mig Welder', 'Photo': '', 'Booking Link': ''}\n",
      "{'Timestamp': '2/21/2020 21:27:50', 'Tool': 'Hypertherm powermax 1000 G3 Series Plasma Cutter', 'Lab': 'Washburn Welding Shop', 'Description': 'Plasma Cutter', 'Photo': '', 'Booking Link': ''}\n",
      "{'Timestamp': '2/21/2020 21:30:17', 'Tool': 'Miller Dynasty 300DX Tig Welder', 'Lab': 'Washburn Welding Shop', 'Description': 'Tig Welder', 'Photo': '', 'Booking Link': ''}\n",
      "{'Timestamp': '2/21/2020 21:31:08', 'Tool': 'Miller Millermatic 250 Mig Welder ', 'Lab': 'Washburn Welding Shop', 'Description': 'Mig Welder', 'Photo': '', 'Booking Link': ''}\n",
      "{'Timestamp': '2/21/2020 21:32:01', 'Tool': 'Oxy-Acetylene Torch', 'Lab': 'Washburn Welding Shop', 'Description': 'Oxy-Acetylene Welder', 'Photo': '', 'Booking Link': ''}\n",
      "{'Timestamp': '2/21/2020 21:32:55', 'Tool': 'Langmuir Crossfire X CNC Plasma Cutter Table', 'Lab': 'Washburn Welding Shop', 'Description': 'CNC Plasma Cutter', 'Photo': '', 'Booking Link': ''}\n",
      "{'Timestamp': '2/21/2020 21:33:38', 'Tool': 'Ruemelin Bead Blasting Cabinet ', 'Lab': 'Washburn Welding Shop', 'Description': 'Bead Blastic Cabinet', 'Photo': '', 'Booking Link': ''}\n",
      "{'Timestamp': '2/21/2020 21:34:24', 'Tool': 'JET Diamond Wheel Bench Grinder', 'Lab': 'Washburn Welding Shop', 'Description': 'Diamond Bench Grinder', 'Photo': '', 'Booking Link': ''}\n",
      "{'Timestamp': '2/21/2020 21:35:12', 'Tool': 'Milwaukee Chop Saw ', 'Lab': 'Washburn Welding Shop', 'Description': 'Chop Saw', 'Photo': '', 'Booking Link': ''}\n",
      "{'Timestamp': '2/21/2020 21:35:45', 'Tool': 'Heavy Duty Standing Vise', 'Lab': 'Washburn Welding Shop', 'Description': 'Vise', 'Photo': '', 'Booking Link': ''}\n",
      "{'Timestamp': '2/21/2020 21:36:25', 'Tool': 'Universal Versa Laser Cutter', 'Lab': 'Washburn 107', 'Description': 'Laser Cutter', 'Photo': '', 'Booking Link': ''}\n",
      "{'Timestamp': '2/21/2020 21:37:20', 'Tool': 'Universal Laser Cutter', 'Lab': 'Washburn 107', 'Description': 'Laser Cutter', 'Photo': '', 'Booking Link': ''}\n",
      "{'Timestamp': '2/21/2020 21:38:06', 'Tool': 'Robotiq Robot Arm', 'Lab': 'Washburn 107', 'Description': 'Robot Arm', 'Photo': '', 'Booking Link': ''}\n",
      "{'Timestamp': '2/21/2020 21:38:23', 'Tool': 'Robotiq Robot Arm', 'Lab': 'Washburn 107', 'Description': 'Robot Arm', 'Photo': '', 'Booking Link': ''}\n",
      "{'Timestamp': '2/21/2020 21:39:03', 'Tool': 'Haas ST-10 CNC Lathe', 'Lab': 'Washburn 107', 'Description': 'CNC Lathe', 'Photo': '', 'Booking Link': ''}\n",
      "{'Timestamp': '2/21/2020 21:39:37', 'Tool': 'Haas CNC Lathe 1', 'Lab': 'Washburn 107', 'Description': 'CNC Lathe', 'Photo': '', 'Booking Link': ''}\n",
      "{'Timestamp': '2/21/2020 21:39:50', 'Tool': 'Haas CNC Lathe 2', 'Lab': 'Washburn 107', 'Description': 'CNC Lathe', 'Photo': '', 'Booking Link': ''}\n",
      "{'Timestamp': '2/21/2020 16:40:50', 'Tool': 'Haas CNC Mini Mill 1', 'Lab': 'Washburn 107', 'Description': 'CNC Mill', 'Photo': '', 'Booking Link': ''}\n",
      "{'Timestamp': '2/21/2020 16:41:10', 'Tool': 'Haas CNC Mini Mill 2', 'Lab': 'Washburn 107', 'Description': 'CNC Mill', 'Photo': '', 'Booking Link': ''}\n",
      "{'Timestamp': '2/21/2020 16:41:23', 'Tool': 'Haas CNC Mini Mill 3', 'Lab': 'Washburn 107', 'Description': 'CNC Mill', 'Photo': '', 'Booking Link': ''}\n",
      "{'Timestamp': '2/21/2020 16:42:22', 'Tool': 'Tennsmith Sheet Metal Brake', 'Lab': 'Washburn 107', 'Description': 'Sheet Metal Brake', 'Photo': '', 'Booking Link': ''}\n",
      "{'Timestamp': '2/21/2020 16:43:27', 'Tool': 'MSC Sheet Metal Roller', 'Lab': 'Washburn 107', 'Description': 'Sheet Metal Roller', 'Photo': '', 'Booking Link': ''}\n",
      "{'Timestamp': '2/21/2020 16:43:45', 'Tool': 'Tube Bender', 'Lab': 'Washburn 107', 'Description': 'Tube Bender', 'Photo': '', 'Booking Link': ''}\n",
      "{'Timestamp': '2/21/2020 16:44:43', 'Tool': 'Peck, Stow & Wilcox Sheet Metal Shear', 'Lab': 'Washburn 107', 'Description': 'Sheet Metal Shear', 'Photo': '', 'Booking Link': ''}\n",
      "{'Timestamp': '2/21/2020 16:45:15', 'Tool': 'DoAll Horizontal Bandsaw', 'Lab': 'Washburn 107', 'Description': 'Horizontal Bandsaw', 'Photo': '', 'Booking Link': ''}\n",
      "{'Timestamp': '2/21/2020 16:45:39', 'Tool': 'DoAll Vertical Bandsaw 1', 'Lab': 'Washburn 107', 'Description': 'Vertical Bandsaw', 'Photo': '', 'Booking Link': ''}\n",
      "{'Timestamp': '2/21/2020 16:46:05', 'Tool': 'DoAll Vertical Bandsaw 2', 'Lab': 'Washburn 107', 'Description': 'Vertical Bandsaw', 'Photo': '', 'Booking Link': ''}\n",
      "{'Timestamp': '2/21/2020 16:47:10', 'Tool': 'Baldor Non-Ferrous Scotch-Brite bench wheel', 'Lab': 'Washburn 107', 'Description': 'Scotch-Brite Wheel', 'Photo': '', 'Booking Link': ''}\n",
      "{'Timestamp': '2/21/2020 16:47:33', 'Tool': 'Baldor Bench Grinder', 'Lab': 'Washburn 107', 'Description': 'Bench Grinder', 'Photo': '', 'Booking Link': ''}\n",
      "{'Timestamp': '2/21/2020 16:48:09', 'Tool': 'Arboga WIlton Drill Press 1', 'Lab': 'Washburn 107', 'Description': 'Drill Press', 'Photo': '', 'Booking Link': ''}\n",
      "{'Timestamp': '2/21/2020 16:48:45', 'Tool': 'Arboga Wilton Drill Press 2', 'Lab': 'Washburn 107', 'Description': 'Drill Press ', 'Photo': '', 'Booking Link': ''}\n",
      "{'Timestamp': '2/21/2020 16:49:39', 'Tool': 'Wilton Vertical Belt Sander', 'Lab': 'Washburn 107', 'Description': 'Wilton Vertical Belt Sander', 'Photo': '', 'Booking Link': ''}\n",
      "{'Timestamp': '2/21/2020 16:50:10', 'Tool': 'Dake Arbor Press', 'Lab': 'Washburn 107', 'Description': 'Arbor Press', 'Photo': '', 'Booking Link': ''}\n",
      "{'Timestamp': '2/21/2020 16:50:37', 'Tool': 'Bench Vise 1', 'Lab': 'Washburn 107', 'Description': 'Bench Vise', 'Photo': '', 'Booking Link': ''}\n",
      "{'Timestamp': '2/21/2020 16:52:18', 'Tool': 'Haas ST-30 SSY CNC Lathe ', 'Lab': 'Washburn 108', 'Description': 'CNC Lathe with Bar feeder', 'Photo': '', 'Booking Link': ''}\n",
      "{'Timestamp': '2/21/2020 16:52:57', 'Tool': 'AccuteX DS-430s ZNC Wire EDM', 'Lab': 'Washburn 108', 'Description': 'EDM Machine', 'Photo': '', 'Booking Link': ''}\n",
      "{'Timestamp': '2/21/2020 16:53:51', 'Tool': 'Fanuc M-710iC Robot Arm Chamber', 'Lab': 'Washburn 108', 'Description': 'Robot Arm ', 'Photo': '', 'Booking Link': ''}\n",
      "{'Timestamp': '2/21/2020 16:54:35', 'Tool': 'ABB IRB 1600-6/1.45 Robot Arm', 'Lab': 'Washburn 108', 'Description': 'Robot Arm', 'Photo': '', 'Booking Link': ''}\n",
      "{'Timestamp': '2/21/2020 16:54:50', 'Tool': 'Haas Mill Drill Center', 'Lab': 'Washburn 108', 'Description': 'CNC Mill', 'Photo': '', 'Booking Link': ''}\n",
      "{'Timestamp': '2/21/2020 16:55:26', 'Tool': 'AccuteX GE-43SA Wire EDM ', 'Lab': 'Washburn 108', 'Description': 'EDM Machine', 'Photo': '', 'Booking Link': ''}\n",
      "{'Timestamp': '2/21/2020 16:55:51', 'Tool': 'Haas VM2 CNC Mill', 'Lab': 'Washburn 108', 'Description': 'CNC Mill', 'Photo': '', 'Booking Link': ''}\n",
      "{'Timestamp': '2/21/2020 16:56:13', 'Tool': 'Haas Super Mini Mill ', 'Lab': 'Washburn 108', 'Description': 'CNC Mill', 'Photo': '', 'Booking Link': ''}\n",
      "{'Timestamp': '2/21/2020 16:56:42', 'Tool': 'Boston Dynamics Atlas Robot', 'Lab': 'Washburn 108', 'Description': 'Humanoid Robot', 'Photo': '', 'Booking Link': ''}\n",
      "{'Timestamp': '2/21/2020 16:58:25', 'Tool': 'Keyence XM Handheld CMM', 'Lab': 'Washburn 105', 'Description': 'CMM', 'Photo': '', 'Booking Link': ''}\n",
      "{'Timestamp': '2/21/2020 16:59:23', 'Tool': 'HGDC 2008-16 CMM', 'Lab': 'Washburn 105', 'Description': 'CMM machine', 'Photo': '', 'Booking Link': ''}\n",
      "{'Timestamp': '2/21/2020 17:01:00', 'Tool': 'Mahr Perthen Metrology Machine ', 'Lab': 'Washburn 105', 'Description': 'Metrology Machine', 'Photo': '', 'Booking Link': ''}\n",
      "{'Timestamp': '2/21/2020 17:04:07', 'Tool': 'Bel Air FinishMaster SL ', 'Lab': 'Washburn 107', 'Description': 'Vibratory Finishing Machine ', 'Photo': '', 'Booking Link': ''}\n",
      "{'Timestamp': '2/21/2020 17:19:07', 'Tool': 'DoAll Vertical Bandsaw', 'Lab': 'Higgins Machine Shop', 'Description': 'Vertical Band Saw', 'Photo': 'https://drive.google.com/open?id=1bGGGnhKE4nFjqmu-wnJMK1OUHQxvTWR7', 'Booking Link': ''}\n",
      "{'Timestamp': '2/21/2020 17:20:01', 'Tool': 'Haas TM 1 CNC Mill', 'Lab': 'Higgins Machine Shop', 'Description': 'CNC Mill', 'Photo': 'https://drive.google.com/open?id=1_gD9PmWTlt-Yh4zHWfOS9tDGZ4-CZLZr', 'Booking Link': ''}\n",
      "{'Timestamp': '2/21/2020 17:21:05', 'Tool': 'DeWalt DW788 Scroll Saw', 'Lab': 'Higgins Machine Shop', 'Description': 'Scroll Saw', 'Photo': 'https://drive.google.com/open?id=102_jVaEhxSBlkf1UQoW_3JxUYTlSYxel', 'Booking Link': ''}\n",
      "{'Timestamp': '2/21/2020 17:22:02', 'Tool': 'JET Horizontal Bandsaw', 'Lab': 'Higgins Machine Shop', 'Description': 'Horizontal Bandsaw ', 'Photo': 'https://drive.google.com/open?id=15ubkjlrcL-hHvHrZUArmKsN-NDOQ3_ZW', 'Booking Link': ''}\n",
      "{'Timestamp': '2/21/2020 17:22:50', 'Tool': 'Hammond of Kalamazoo Vertical Belt Sander ', 'Lab': 'Higgins Machine Shop', 'Description': 'Belt Sander ', 'Photo': 'https://drive.google.com/open?id=1vNnMCxvDiBq67WYtGElrxP0Jf6rZnJgJ', 'Booking Link': ''}\n",
      "{'Timestamp': '2/21/2020 17:23:48', 'Tool': \"Walker Chuck's Manual Surfacing Machine \", 'Lab': 'Higgins Machine Shop', 'Description': 'Manual Surfacing Machine', 'Photo': 'https://drive.google.com/open?id=12v_ZGeA_dI5Q3QECwVhosLDo2Q1hCY8-', 'Booking Link': ''}\n",
      "{'Timestamp': '2/21/2020 17:24:39', 'Tool': 'DoAll 13 Manual Lathe ', 'Lab': 'Higgins Machine Shop', 'Description': 'Manual Metal Lathe ', 'Photo': 'https://drive.google.com/open?id=1hQgOsUyg75JzUKCeGKlK-ITP2Vn_fVj4', 'Booking Link': ''}\n",
      "{'Timestamp': '2/21/2020 17:25:40', 'Tool': 'Arboga Wilton Drill press ', 'Lab': 'Higgins Machine Shop', 'Description': 'Drill press', 'Photo': 'https://drive.google.com/open?id=1CBPZ_Si3pZ9-6q2LGTfte99vWej8IYcn', 'Booking Link': ''}\n",
      "{'Timestamp': '2/21/2020 17:26:25', 'Tool': 'DoAll Vertical Knee Mill 1', 'Lab': 'Higgins Machine Shop', 'Description': 'Manual Mill 1', 'Photo': '', 'Booking Link': ''}\n",
      "{'Timestamp': '2/21/2020 17:27:11', 'Tool': 'DoAll Vertical Knee Mill 2', 'Lab': 'Higgins Machine Shop', 'Description': 'Manual Mill 2', 'Photo': '', 'Booking Link': ''}\n",
      "{'Timestamp': '2/21/2020 16:50:37', 'Tool': 'Bench Vise 2', 'Lab': 'Washburn 107', 'Description': 'Bench Vise', 'Photo': '', 'Booking Link': ''}\n",
      "{'Timestamp': '2/21/2020 16:50:37', 'Tool': 'Bench Vise 3', 'Lab': 'Washburn 107', 'Description': 'Bench Vise', 'Photo': '', 'Booking Link': ''}\n",
      "{'Timestamp': '2/21/2020 16:50:37', 'Tool': 'Bench Vise 4', 'Lab': 'Washburn 107', 'Description': 'Bench Vise', 'Photo': '', 'Booking Link': ''}\n"
     ]
    },
    {
     "data": {
      "text/plain": [
       "[None,\n",
       " None,\n",
       " None,\n",
       " None,\n",
       " None,\n",
       " None,\n",
       " None,\n",
       " None,\n",
       " None,\n",
       " None,\n",
       " None,\n",
       " None,\n",
       " None,\n",
       " None,\n",
       " None,\n",
       " None,\n",
       " None,\n",
       " None,\n",
       " None,\n",
       " None,\n",
       " None,\n",
       " None,\n",
       " None,\n",
       " None,\n",
       " None,\n",
       " None,\n",
       " None,\n",
       " None,\n",
       " None,\n",
       " None,\n",
       " None,\n",
       " None,\n",
       " None,\n",
       " None,\n",
       " None,\n",
       " None,\n",
       " None,\n",
       " None,\n",
       " None,\n",
       " None,\n",
       " None,\n",
       " None,\n",
       " None,\n",
       " None,\n",
       " None,\n",
       " None,\n",
       " None,\n",
       " None,\n",
       " None,\n",
       " None,\n",
       " None,\n",
       " None,\n",
       " None,\n",
       " None,\n",
       " None,\n",
       " None,\n",
       " None,\n",
       " None,\n",
       " None,\n",
       " None,\n",
       " None,\n",
       " None]"
      ]
     },
     "execution_count": 3,
     "metadata": {},
     "output_type": "execute_result"
    }
   ],
   "source": [
    "#print data\n"
   ]
  },
  {
   "cell_type": "code",
   "execution_count": 4,
   "metadata": {},
   "outputs": [],
   "source": [
    "#db_connections\n",
    "mydb = mysql.connector.connect(\n",
    "  host=\"makermap.cbeezzrvvyp6.us-east-2.rds.amazonaws.com\",\n",
    "  user=\"admin\",\n",
    "  passwd=\"makermap\",\n",
    "  database=\"innodb\"\n",
    ")\n",
    "\n",
    "cursor = mydb.cursor()"
   ]
  },
  {
   "cell_type": "code",
   "execution_count": 5,
   "metadata": {},
   "outputs": [],
   "source": [
    "# add building\n",
    "def addBuilding(name, addr, lat, longi, desc, img, man, hour,uuid=uuid.uuid4()):\n",
    "    sql_cmd = (\"INSERT INTO Buildings(idBuildings, Name, Address, Latitude, Longitude, Description, ImageFolder, Manager, Hours) VALUES (%s,%s,%s,%s,%s,%s,%s,%s,%s)\")\n",
    "    data = (str(uuid), name, addr, lat, longi, desc, img, man, hour)\n",
    "    cursor.execute(sql_cmd, data)\n",
    "    print(cursor.statement)\n",
    "    mydb.commit()"
   ]
  },
  {
   "cell_type": "code",
   "execution_count": 6,
   "metadata": {},
   "outputs": [],
   "source": [
    "#add lab\n",
    "def addLab(idB, name, hour, lat, longi, desc, room, img, man,uuid=uuid.uuid4()):\n",
    "    sql_cmd = (\"INSERT INTO Labs(idLabs, BuildingID, Name, Hours, Latitude, Longitude, Description, RoomNum, ImageFolder, Manager) VALUES (%s, %s, %s, %s, %s, %s, %s, %s, %s, %s)\")\n",
    "    data = (str(uuid), str(idB), name, hour, lat, longi, desc, room, img, man)\n",
    "    cursor.execute(sql_cmd, data)\n",
    "    mydb.commit()"
   ]
  },
  {
   "cell_type": "code",
   "execution_count": 7,
   "metadata": {},
   "outputs": [],
   "source": [
    "#add tool\n",
    "def addTool(name, idL, desc, img, book, own, res):\n",
    "    sql_cmd = (\"INSERT INTO Tools(idTools, Name, LabID, Description, ImageFolder, BookingLink, OwnerID, RestrictPublic) VALUES (%s, %s, %s, %s, %s, %s, %s, %s)\")\n",
    "    data = (str(uuid.uuid4()), name, str(idL), desc, img, book, own, res)\n",
    "    cursor.execute(sql_cmd, data)\n",
    "    mydb.commit()"
   ]
  },
  {
   "cell_type": "code",
   "execution_count": 8,
   "metadata": {},
   "outputs": [],
   "source": [
    "sent_labs={}"
   ]
  },
  {
   "cell_type": "code",
   "execution_count": 9,
   "metadata": {},
   "outputs": [
    {
     "name": "stdout",
     "output_type": "stream",
     "text": [
      "INSERT INTO Buildings(idBuildings, Name, Address, Latitude, Longitude, Description, ImageFolder, Manager, Hours) VALUES ('d0670811-d970-42a9-be37-925c223c10f9','Washburn Shops','100 Institute Road, Worcester MA, 01609',42.27392325,-71.80707633,'temp','temp','temp','temp')\n"
     ]
    }
   ],
   "source": [
    "#Adding Washburn\n",
    "wash_id=uuid.uuid4()\n",
    "addBuilding(\"Washburn Shops\", \"100 Institute Road, Worcester MA, 01609\",42.27392325,-71.80707633,\"temp\",\"temp\",\"temp\",\"temp\",wash_id)"
   ]
  },
  {
   "cell_type": "code",
   "execution_count": 10,
   "metadata": {},
   "outputs": [],
   "source": [
    "for tool in dicted_data:\n",
    "    if tool['Lab'] not in sent_labs.keys():\n",
    "        sent_labs[tool['Lab']]=uuid.uuid4()\n",
    "        addLab(wash_id,tool['Lab'],42.27392325,-71.80707633,'temp','temp','temp','temp','temp',uuid=sent_labs[tool['Lab']])\n",
    "    addTool(tool['Tool'],sent_labs[tool['Lab']],'temp','temp','temp','temp','false')"
   ]
  },
  {
   "cell_type": "code",
   "execution_count": null,
   "metadata": {},
   "outputs": [],
   "source": []
  }
 ],
 "metadata": {
  "kernelspec": {
   "display_name": "Python [conda env:makermap-upload] *",
   "language": "python",
   "name": "conda-env-makermap-upload-py"
  },
  "language_info": {
   "codemirror_mode": {
    "name": "ipython",
    "version": 3
   },
   "file_extension": ".py",
   "mimetype": "text/x-python",
   "name": "python",
   "nbconvert_exporter": "python",
   "pygments_lexer": "ipython3",
   "version": "3.7.6"
  }
 },
 "nbformat": 4,
 "nbformat_minor": 4
}
